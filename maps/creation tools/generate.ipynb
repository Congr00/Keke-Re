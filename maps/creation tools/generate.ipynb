{
 "cells": [
  {
   "cell_type": "code",
   "execution_count": 26,
   "metadata": {
    "collapsed": true
   },
   "outputs": [],
   "source": [
    "import copy\n",
    "import pprint\n",
    "import random\n",
    "\n",
    "\n",
    "def generate(s=12, c=11):\n",
    "    board = ['..........XX.....X..X..',\n",
    "             '.XX..X.XX....X.X..X...X',\n",
    "             '...X..XXX.X.X.X.XXX..X.',\n",
    "             '.X.X.XXX.X..X......X...',\n",
    "             '..X..X...X...XXX.X...XX',\n",
    "             '...X..X.XXXX.....X.X...',\n",
    "             'XX...X...X...XXXXXX..X.',\n",
    "             '.X.X...X....XX......X..',\n",
    "             '.XXX.XXX.XXX...XX.XXXX.',\n",
    "             '...X....X...XXX.XX...X.',\n",
    "             'XX.X.XXX..X.XX...X.X..X',\n",
    "             '.........X.....X....X..']\n",
    "    Sset = []\n",
    "    Cset = []\n",
    "    filled_board = []\n",
    "    for i, row in enumerate(board):\n",
    "        filled_board.append([])\n",
    "        for j, item in enumerate(row):\n",
    "            filled_board[i].append(0)\n",
    "            if item == '.':\n",
    "                Cset.append((i, j))\n",
    "            else:\n",
    "                Sset.append((i, j))\n",
    "\n",
    "    random.shuffle(Sset)\n",
    "    random.shuffle(Cset)\n",
    "\n",
    "    si = 1\n",
    "    for x, y in Sset:\n",
    "        name = 'S'\n",
    "        if si < 10:\n",
    "            name += '0'\n",
    "        name += str(si)\n",
    "        filled_board[x][y] = name\n",
    "        si += 1\n",
    "        if si > s:\n",
    "            si = 1\n",
    "\n",
    "    ci = 1\n",
    "    for x, y in Cset:\n",
    "        name = 'C'\n",
    "        if ci < 10:\n",
    "            name += '0'\n",
    "        name += str(ci)\n",
    "        filled_board[x][y] = name\n",
    "        ci += 1\n",
    "        if ci > c:\n",
    "            ci = 1\n",
    "\n",
    "    #for i in range(len(filled_board)):\n",
    "    #    for j in range(len(filled_board[i])):\n",
    "    #        if filled_board[i][j] != chosen:\n",
    "    #            filled_board[i][j] = '...'\n",
    "\n",
    "    #for row in filled_board:\n",
    "    #    print(row)\n",
    "\n",
    "    return filled_board\n",
    "\n",
    "\n",
    "def show(board, chosen='C01'):\n",
    "    filled_board = copy.deepcopy(board)\n",
    "    for i in range(len(filled_board)):\n",
    "        for j in range(len(filled_board[i])):\n",
    "            if filled_board[i][j] != chosen:\n",
    "                filled_board[i][j] = '...'\n",
    "\n",
    "    for row in filled_board:\n",
    "        print(row)\n",
    "\n",
    "\n",
    "board = generate()"
   ]
  },
  {
   "cell_type": "code",
   "execution_count": 55,
   "outputs": [
    {
     "name": "stdout",
     "output_type": "stream",
     "text": [
      "['...', '...', '...', '...', '...', '...', '...', '...', '...', '...', 'S12', '...', '...', '...', '...', '...', '...', '...', '...', '...', '...', '...', '...']\n",
      "['...', '...', '...', '...', '...', '...', '...', '...', '...', '...', '...', '...', '...', '...', '...', '...', '...', '...', '...', '...', '...', '...', '...']\n",
      "['...', '...', '...', '...', '...', '...', 'S12', '...', '...', '...', '...', '...', '...', '...', '...', '...', '...', '...', '...', '...', '...', '...', '...']\n",
      "['...', '...', '...', '...', '...', '...', '...', '...', '...', '...', '...', '...', '...', '...', '...', '...', '...', '...', '...', '...', '...', '...', '...']\n",
      "['...', '...', '...', '...', '...', '...', '...', '...', '...', '...', '...', '...', '...', '...', '...', '...', '...', '...', '...', '...', '...', '...', '...']\n",
      "['...', '...', '...', '...', '...', '...', '...', '...', '...', '...', '...', '...', '...', '...', '...', '...', '...', '...', '...', '...', '...', '...', '...']\n",
      "['...', '...', '...', '...', '...', 'S12', '...', '...', '...', '...', '...', '...', '...', '...', 'S12', '...', '...', '...', '...', '...', '...', '...', '...']\n",
      "['...', '...', '...', '...', '...', '...', '...', '...', '...', '...', '...', '...', '...', 'S12', '...', '...', '...', '...', '...', '...', '...', '...', '...']\n",
      "['...', '...', '...', '...', '...', '...', '...', '...', '...', 'S12', '...', '...', '...', '...', '...', '...', '...', '...', '...', '...', 'S12', '...', '...']\n",
      "['...', '...', '...', '...', '...', '...', '...', '...', '...', '...', '...', '...', '...', '...', '...', '...', '...', '...', '...', '...', '...', '...', '...']\n",
      "['...', '...', '...', '...', '...', '...', '...', '...', '...', '...', '...', '...', '...', '...', '...', '...', '...', 'S12', '...', '...', '...', '...', '...']\n",
      "['...', '...', '...', '...', '...', '...', '...', '...', '...', '...', '...', '...', '...', '...', '...', '...', '...', '...', '...', '...', '...', '...', '...']\n"
     ]
    }
   ],
   "source": [
    "show(board, chosen='S12')"
   ],
   "metadata": {
    "collapsed": false,
    "pycharm": {
     "name": "#%%\n"
    }
   }
  },
  {
   "cell_type": "code",
   "execution_count": null,
   "outputs": [],
   "source": [],
   "metadata": {
    "collapsed": false,
    "pycharm": {
     "name": "#%%\n"
    }
   }
  }
 ],
 "metadata": {
  "kernelspec": {
   "display_name": "Python 3",
   "language": "python",
   "name": "python3"
  },
  "language_info": {
   "codemirror_mode": {
    "name": "ipython",
    "version": 2
   },
   "file_extension": ".py",
   "mimetype": "text/x-python",
   "name": "python",
   "nbconvert_exporter": "python",
   "pygments_lexer": "ipython2",
   "version": "2.7.6"
  }
 },
 "nbformat": 4,
 "nbformat_minor": 0
}